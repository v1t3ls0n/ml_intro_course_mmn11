{
 "cells": [
  {
   "cell_type": "code",
   "execution_count": 4,
   "metadata": {},
   "outputs": [
    {
     "ename": "ModuleNotFoundError",
     "evalue": "No module named 'custom_confusion_matrix'",
     "output_type": "error",
     "traceback": [
      "\u001b[1;31m---------------------------------------------------------------------------\u001b[0m",
      "\u001b[1;31mModuleNotFoundError\u001b[0m                       Traceback (most recent call last)",
      "Cell \u001b[1;32mIn[4], line 6\u001b[0m\n\u001b[0;32m      4\u001b[0m \u001b[38;5;28;01mfrom\u001b[39;00m \u001b[38;5;21;01mcore\u001b[39;00m\u001b[38;5;21;01m.\u001b[39;00m\u001b[38;5;21;01mcustom_confusion_matrix\u001b[39;00m \u001b[38;5;28;01mimport\u001b[39;00m custom_confusion_matrix\n\u001b[0;32m      5\u001b[0m \u001b[38;5;28;01mfrom\u001b[39;00m \u001b[38;5;21;01mcore\u001b[39;00m\u001b[38;5;21;01m.\u001b[39;00m\u001b[38;5;21;01mmulti_class_perceptron\u001b[39;00m \u001b[38;5;28;01mimport\u001b[39;00m MultiClassPerceptron\n\u001b[1;32m----> 6\u001b[0m \u001b[38;5;28;01mfrom\u001b[39;00m \u001b[38;5;21;01mcore\u001b[39;00m\u001b[38;5;21;01m.\u001b[39;00m\u001b[38;5;21;01mevaluation_functions\u001b[39;00m \u001b[38;5;28;01mimport\u001b[39;00m evaluate_model, plot_confusion_matrix\n\u001b[0;32m      8\u001b[0m \u001b[38;5;66;03m# 2. Load and preprocess data:\u001b[39;00m\n\u001b[0;32m      9\u001b[0m X, y \u001b[38;5;241m=\u001b[39m load_mnist()\n",
      "File \u001b[1;32me:\\dev\\ml_intro_course\\mmn11\\perceptron\\code\\core\\evaluation_functions.py:6\u001b[0m\n\u001b[0;32m      4\u001b[0m \u001b[38;5;28;01mimport\u001b[39;00m \u001b[38;5;21;01mmatplotlib\u001b[39;00m\u001b[38;5;21;01m.\u001b[39;00m\u001b[38;5;21;01mpyplot\u001b[39;00m \u001b[38;5;28;01mas\u001b[39;00m \u001b[38;5;21;01mplt\u001b[39;00m\n\u001b[0;32m      5\u001b[0m \u001b[38;5;28;01mfrom\u001b[39;00m \u001b[38;5;21;01msklearn\u001b[39;00m\u001b[38;5;21;01m.\u001b[39;00m\u001b[38;5;21;01mmetrics\u001b[39;00m \u001b[38;5;28;01mimport\u001b[39;00m confusion_matrix\n\u001b[1;32m----> 6\u001b[0m \u001b[38;5;28;01mfrom\u001b[39;00m \u001b[38;5;21;01mcustom_confusion_matrix\u001b[39;00m \u001b[38;5;28;01mimport\u001b[39;00m custom_confusion_matrix\n\u001b[0;32m      7\u001b[0m \u001b[38;5;28;01mdef\u001b[39;00m \u001b[38;5;21mevaluate_model\u001b[39m(model, X, y):\n\u001b[0;32m      8\u001b[0m \u001b[38;5;250m    \u001b[39m\u001b[38;5;124;03m\"\"\"\u001b[39;00m\n\u001b[0;32m      9\u001b[0m \u001b[38;5;124;03m    Evaluates the trained model on data X with true labels y.\u001b[39;00m\n\u001b[0;32m     10\u001b[0m \u001b[38;5;124;03m    Computes and prints:\u001b[39;00m\n\u001b[1;32m   (...)\u001b[0m\n\u001b[0;32m     14\u001b[0m \u001b[38;5;124;03m      - Sensitivity (TPR) for each class.\u001b[39;00m\n\u001b[0;32m     15\u001b[0m \u001b[38;5;124;03m    \"\"\"\u001b[39;00m\n",
      "\u001b[1;31mModuleNotFoundError\u001b[0m: No module named 'custom_confusion_matrix'"
     ]
    }
   ],
   "source": [
    "# 1. Import .py files:\n",
    "from core.imports import *\n",
    "from core.data_preprocessing import load_mnist, preprocess_data\n",
    "from core.custom_confusion_matrix import custom_confusion_matrix\n",
    "from core.multi_class_perceptron import MultiClassPerceptron\n",
    "from core.evaluation_functions import evaluate_model, plot_confusion_matrix\n",
    "\n",
    "# 2. Load and preprocess data:\n",
    "X, y = load_mnist()\n",
    "X = preprocess_data(X)\n",
    "\n",
    "# 3. Split into train/test:\n",
    "X_train, X_test = X[:60000], X[60000:]\n",
    "y_train, y_test = y[:60000], y[60000:]\n",
    "\n",
    "# 4. Train the model:\n",
    "mcp = MultiClassPerceptron()\n",
    "mcp.fit(X_train, y_train)\n",
    "\n",
    "# 5. Evaluate:\n",
    "cm, acc = evaluate_model(mcp, X_test, y_test)\n",
    "plot_confusion_matrix(cm)\n"
   ]
  },
  {
   "cell_type": "code",
   "execution_count": null,
   "metadata": {},
   "outputs": [],
   "source": [
    "from core.imports import *\n",
    "%matplotlib inline\n",
    "\n",
    "# 1. Ensure the outputs directory exists\n",
    "os.makedirs(\"outputs\", exist_ok=True)\n",
    "\n",
    "# 2. Generate unique filenames for this run (using a timestamp)\n",
    "timestamp = datetime.datetime.now().strftime(\"%Y%m%d_%H%M%S\")\n",
    "log_filename = f\"outputs/run_{timestamp}_log.txt\"\n",
    "img_filename = f\"outputs/run_{timestamp}_confusion_mat.png\"\n",
    "\n",
    "# 3. Redirect stdout to a new log file\n",
    "with open(log_filename, \"w\") as f:\n",
    "    original_stdout = sys.stdout\n",
    "    sys.stdout = f  # All print statements will go to run_{timestamp}_log.txt\n",
    "\n",
    "    print(\"=== Starting a new run ===\")\n",
    "    print(f\"Log file: {log_filename}\")\n",
    "    print(f\"Image file: {img_filename}\")\n",
    "    \n",
    "    # -- Import or reference your code modules if needed --\n",
    "    from core.data_preprocessing import load_mnist, preprocess_data\n",
    "    from core.custom_confusion_matrix import custom_confusion_matrix\n",
    "    from core.multi_class_perceptron import MultiClassPerceptron\n",
    "    from core.evaluation_functions import evaluate_model, plot_confusion_matrix\n",
    "\n",
    "    # -- Load and preprocess data --\n",
    "    print(\"=== Loading and Preprocessing Data ===\")\n",
    "    X, y = load_mnist()\n",
    "    X = preprocess_data(X)\n",
    "\n",
    "    # -- Split into train/test --\n",
    "    print(\"=== Splitting Data ===\")\n",
    "    X_train, X_test = X[:60000], X[60000:]\n",
    "    y_train, y_test = y[:60000], y[60000:]\n",
    "\n",
    "    # -- Train the model --\n",
    "    print(\"=== Training MultiClassPerceptron ===\")\n",
    "    mcp = MultiClassPerceptron()\n",
    "    mcp.fit(X_train, y_train)\n",
    "\n",
    "    # -- Evaluate on test set --\n",
    "    print(\"=== Evaluating on Test Set ===\")\n",
    "    cm, acc = evaluate_model(mcp, X_test, y_test)\n",
    "\n",
    "    # Restore stdout\n",
    "    sys.stdout = original_stdout\n",
    "\n",
    "# 4. Plot and save the confusion matrix image\n",
    "plot_confusion_matrix(cm)         # This displays in the notebook\n",
    "plt.savefig(img_filename)         # Save to e.g. outputs/run_20230305_123456_confusion_mat.png\n",
    "plt.show()                        # Show inline in the notebook\n",
    "\n",
    "print(f\"Run complete. Logs saved to {log_filename} and figure saved to {img_filename}.\")\n"
   ]
  }
 ],
 "metadata": {
  "kernelspec": {
   "display_name": "base",
   "language": "python",
   "name": "python3"
  },
  "language_info": {
   "codemirror_mode": {
    "name": "ipython",
    "version": 3
   },
   "file_extension": ".py",
   "mimetype": "text/x-python",
   "name": "python",
   "nbconvert_exporter": "python",
   "pygments_lexer": "ipython3",
   "version": "3.12.7"
  }
 },
 "nbformat": 4,
 "nbformat_minor": 2
}
