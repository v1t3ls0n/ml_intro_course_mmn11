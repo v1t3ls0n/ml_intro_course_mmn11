{
 "cells": [
  {
   "cell_type": "raw",
   "metadata": {
    "vscode": {
     "languageId": "raw"
    }
   },
   "source": [
    "import os\n",
    "import sys\n",
    "import matplotlib.pyplot as plt\n",
    "import datetime\n",
    "\n",
    "# 1. Ensure the outputs directory exists\n",
    "os.makedirs(\"outputs\", exist_ok=True)\n",
    "\n",
    "# 2. Generate unique filenames for this run (using a timestamp)\n",
    "timestamp = datetime.datetime.now().strftime(\"%Y%m%d_%H%M%S\")\n",
    "log_filename = f\"outputs/run_{timestamp}_log.txt\"\n",
    "img_filename = f\"outputs/run_{timestamp}_confusion_mat.png\"\n",
    "\n",
    "# 3. Redirect stdout to a new log file\n",
    "with open(log_filename, \"w\") as f:\n",
    "    original_stdout = sys.stdout\n",
    "    sys.stdout = f  # All print statements will go to run_{timestamp}_log.txt\n",
    "\n",
    "    print(\"=== Starting a new run ===\")\n",
    "    print(f\"Log file: {log_filename}\")\n",
    "    print(f\"Image file: {img_filename}\")\n",
    "    \n",
    "    # -- Import or reference your code modules if needed --\n",
    "    from code.data_preprocessing import load_mnist, preprocess_data\n",
    "    from code.custom_confusion_matrix import custom_confusion_matrix\n",
    "    from code.multi_class_perceptron import MultiClassPerceptron\n",
    "    from code.evaluation_functions import evaluate_model, plot_confusion_matrix\n",
    "\n",
    "    # -- Load and preprocess data --\n",
    "    print(\"=== Loading and Preprocessing Data ===\")\n",
    "    X, y = load_mnist()\n",
    "    X = preprocess_data(X)\n",
    "\n",
    "    # -- Split into train/test --\n",
    "    print(\"=== Splitting Data ===\")\n",
    "    X_train, X_test = X[:60000], X[60000:]\n",
    "    y_train, y_test = y[:60000], y[60000:]\n",
    "\n",
    "    # -- Train the model --\n",
    "    print(\"=== Training MultiClassPerceptron ===\")\n",
    "    mcp = MultiClassPerceptron()\n",
    "    mcp.fit(X_train, y_train)\n",
    "\n",
    "    # -- Evaluate on test set --\n",
    "    print(\"=== Evaluating on Test Set ===\")\n",
    "    cm, acc = evaluate_model(mcp, X_test, y_test)\n",
    "\n",
    "    # Restore stdout\n",
    "    sys.stdout = original_stdout\n",
    "\n",
    "# 4. Plot and save the confusion matrix image\n",
    "plot_confusion_matrix(cm)         # This displays in the notebook\n",
    "plt.savefig(img_filename)         # Save to e.g. outputs/run_20230305_123456_confusion_mat.png\n",
    "plt.show()                        # Show inline in the notebook\n",
    "\n",
    "print(f\"Run complete. Logs saved to {log_filename} and figure saved to {img_filename}.\")\n"
   ]
  }
 ],
 "metadata": {
  "kernelspec": {
   "display_name": "Python 3 (ipykernel)",
   "language": "python",
   "name": "python3"
  },
  "language_info": {
   "codemirror_mode": {
    "name": "ipython",
    "version": 3
   },
   "file_extension": ".py",
   "mimetype": "text/x-python",
   "name": "python",
   "nbconvert_exporter": "python",
   "pygments_lexer": "ipython3",
   "version": "3.13.1"
  }
 },
 "nbformat": 4,
 "nbformat_minor": 4
}
