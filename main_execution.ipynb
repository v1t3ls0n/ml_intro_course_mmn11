{
 "cells": [
  {
   "cell_type": "raw",
   "metadata": {
    "vscode": {
     "languageId": "raw"
    }
   },
   "source": [
    "# This is a \"code cell\" in the notebook.\n",
    "\n",
    "# 1. Import .py files:\n",
    "from code.data_preprocessing import load_mnist, preprocess_data\n",
    "from code.custom_confusion_matrix import custom_confusion_matrix\n",
    "from code.multi_class_perceptron import MultiClassPerceptron\n",
    "from code.evaluation_functions import evaluate_model, plot_confusion_matrix\n",
    "\n",
    "# 2. Load and preprocess data:\n",
    "X, y = load_mnist()\n",
    "X = preprocess_data(X)\n",
    "\n",
    "# 3. Split into train/test:\n",
    "X_train, X_test = X[:60000], X[60000:]\n",
    "y_train, y_test = y[:60000], y[60000:]\n",
    "\n",
    "# 4. Train the model:\n",
    "mcp = MultiClassPerceptron()\n",
    "mcp.fit(X_train, y_train)\n",
    "\n",
    "# 5. Evaluate:\n",
    "cm, acc = evaluate_model(mcp, X_test, y_test)\n",
    "plot_confusion_matrix(cm)\n"
   ]
  },
  {
   "cell_type": "raw",
   "metadata": {},
   "source": []
  }
 ],
 "metadata": {
  "kernelspec": {
   "display_name": "Python 3 (ipykernel)",
   "language": "python",
   "name": "python3"
  },
  "language_info": {
   "codemirror_mode": {
    "name": "ipython",
    "version": 3
   },
   "file_extension": ".py",
   "mimetype": "text/x-python",
   "name": "python",
   "nbconvert_exporter": "python",
   "pygments_lexer": "ipython3",
   "version": "3.13.1"
  }
 },
 "nbformat": 4,
 "nbformat_minor": 4
}
