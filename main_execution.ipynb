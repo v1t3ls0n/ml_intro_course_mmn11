{
 "cells": [
  {
   "cell_type": "code",
   "execution_count": 4,
   "metadata": {},
   "outputs": [
    {
     "ename": "ImportError",
     "evalue": "cannot import name 'custom_confusion_matrix' from 'imports' (e:\\dev\\ml_intro_course\\mmn11\\perceptron\\imports.py)",
     "output_type": "error",
     "traceback": [
      "\u001b[1;31m---------------------------------------------------------------------------\u001b[0m",
      "\u001b[1;31mImportError\u001b[0m                               Traceback (most recent call last)",
      "Cell \u001b[1;32mIn[4], line 8\u001b[0m\n\u001b[0;32m      6\u001b[0m \u001b[38;5;28;01mfrom\u001b[39;00m \u001b[38;5;21;01mcustom_confusion_matrix\u001b[39;00m \u001b[38;5;28;01mimport\u001b[39;00m custom_confusion_matrix\n\u001b[0;32m      7\u001b[0m \u001b[38;5;28;01mfrom\u001b[39;00m \u001b[38;5;21;01mmulti_class_perceptron\u001b[39;00m \u001b[38;5;28;01mimport\u001b[39;00m MultiClassPerceptron\n\u001b[1;32m----> 8\u001b[0m \u001b[38;5;28;01mfrom\u001b[39;00m \u001b[38;5;21;01mevaluation_functions\u001b[39;00m \u001b[38;5;28;01mimport\u001b[39;00m evaluate_model, plot_confusion_matrix\n\u001b[0;32m     10\u001b[0m \u001b[38;5;66;03m# 2. Load and preprocess data:\u001b[39;00m\n\u001b[0;32m     11\u001b[0m X, y \u001b[38;5;241m=\u001b[39m load_mnist()\n",
      "File \u001b[1;32me:\\dev\\ml_intro_course\\mmn11\\perceptron\\evaluation_functions.py:2\u001b[0m\n\u001b[0;32m      1\u001b[0m \u001b[38;5;66;03m# Evaluation Functions\u001b[39;00m\n\u001b[1;32m----> 2\u001b[0m \u001b[38;5;28;01mfrom\u001b[39;00m \u001b[38;5;21;01mimports\u001b[39;00m \u001b[38;5;28;01mimport\u001b[39;00m confusion_matrix,plt,np,custom_confusion_matrix\n\u001b[0;32m      3\u001b[0m \u001b[38;5;28;01mdef\u001b[39;00m \u001b[38;5;21mevaluate_model\u001b[39m(model, X, y):\n\u001b[0;32m      4\u001b[0m \u001b[38;5;250m    \u001b[39m\u001b[38;5;124;03m\"\"\"\u001b[39;00m\n\u001b[0;32m      5\u001b[0m \u001b[38;5;124;03m    Evaluates the trained model on data X with true labels y.\u001b[39;00m\n\u001b[0;32m      6\u001b[0m \u001b[38;5;124;03m    Computes and prints:\u001b[39;00m\n\u001b[1;32m   (...)\u001b[0m\n\u001b[0;32m     10\u001b[0m \u001b[38;5;124;03m      - Sensitivity (TPR) for each class.\u001b[39;00m\n\u001b[0;32m     11\u001b[0m \u001b[38;5;124;03m    \"\"\"\u001b[39;00m\n",
      "\u001b[1;31mImportError\u001b[0m: cannot import name 'custom_confusion_matrix' from 'imports' (e:\\dev\\ml_intro_course\\mmn11\\perceptron\\imports.py)"
     ]
    }
   ],
   "source": [
    "# This is a \"code cell\" in the notebook.\n",
    "\n",
    "# 1. Import from your .py files:\n",
    "from imports import *\n",
    "from data_preprocessing import load_mnist, preprocess_data\n",
    "from custom_confusion_matrix import custom_confusion_matrix\n",
    "from multi_class_perceptron import MultiClassPerceptron\n",
    "from evaluation_functions import evaluate_model, plot_confusion_matrix\n",
    "\n",
    "# 2. Load and preprocess data:\n",
    "X, y = load_mnist()\n",
    "X = preprocess_data(X)\n",
    "\n",
    "# 3. Split into train/test:\n",
    "X_train, X_test = X[:60000], X[60000:]\n",
    "y_train, y_test = y[:60000], y[60000:]\n",
    "\n",
    "# 4. Train the model:\n",
    "mcp = MultiClassPerceptron()\n",
    "mcp.fit(X_train, y_train)\n",
    "\n",
    "# 5. Evaluate:\n",
    "cm, acc = evaluate_model(mcp, X_test, y_test)\n",
    "plot_confusion_matrix(cm)\n"
   ]
  }
 ],
 "metadata": {
  "kernelspec": {
   "display_name": "base",
   "language": "python",
   "name": "python3"
  },
  "language_info": {
   "codemirror_mode": {
    "name": "ipython",
    "version": 3
   },
   "file_extension": ".py",
   "mimetype": "text/x-python",
   "name": "python",
   "nbconvert_exporter": "python",
   "pygments_lexer": "ipython3",
   "version": "3.12.7"
  }
 },
 "nbformat": 4,
 "nbformat_minor": 2
}
